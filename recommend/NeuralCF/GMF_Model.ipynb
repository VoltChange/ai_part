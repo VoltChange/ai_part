{
 "cells": [
  {
   "cell_type": "markdown",
   "metadata": {},
   "source": [
    "## Description:\n",
    "这个Jupyter用Pytorch实现GMF模型， 完成该模型的预训练过程。"
   ]
  },
  {
   "cell_type": "markdown",
   "metadata": {},
   "source": [
    "## 导入包"
   ]
  },
  {
   "cell_type": "code",
   "execution_count": 1,
   "metadata": {
    "ExecuteTime": {
     "end_time": "2020-10-21T03:00:56.774466Z",
     "start_time": "2020-10-21T03:00:55.055248Z"
    }
   },
   "outputs": [],
   "source": [
    "import datetime\n",
    "import numpy as np\n",
    "import pandas as pd\n",
    "from collections import Counter\n",
    "import heapq\n",
    "\n",
    "import torch\n",
    "from torch.utils.data import DataLoader, Dataset, TensorDataset\n",
    "\n",
    "import torch.nn as nn\n",
    "import torch.nn.functional as F\n",
    "import torch.optim as optim\n",
    "\n",
    "from torchkeras import summary\n",
    "\n",
    "import warnings\n",
    "warnings.filterwarnings('ignore')\n",
    "\n",
    "device = torch.device(\"cuda:0\" if torch.cuda.is_available() else \"cpu\")"
   ]
  },
  {
   "cell_type": "code",
   "execution_count": 2,
   "metadata": {
    "ExecuteTime": {
     "end_time": "2020-10-21T03:00:57.500906Z",
     "start_time": "2020-10-21T03:00:57.490934Z"
    }
   },
   "outputs": [],
   "source": [
    "# 一些超参数设置\n",
    "topK = 10\n",
    "num_factors = 8\n",
    "num_negatives = 4\n",
    "batch_size = 64\n",
    "lr = 0.001"
   ]
  },
  {
   "cell_type": "markdown",
   "metadata": {},
   "source": [
    "## 导入数据"
   ]
  },
  {
   "cell_type": "code",
   "execution_count": 3,
   "metadata": {
    "ExecuteTime": {
     "end_time": "2020-10-21T03:01:01.125762Z",
     "start_time": "2020-10-21T03:00:59.257462Z"
    }
   },
   "outputs": [],
   "source": [
    "# 数据在processed Data里面\n",
    "train = np.load('ProcessedData/train.npy', allow_pickle=True).tolist()\n",
    "testRatings = np.load('ProcessedData/testRatings.npy').tolist()\n",
    "testNegatives = np.load('ProcessedData/testNegatives.npy').tolist()"
   ]
  },
  {
   "cell_type": "code",
   "execution_count": 5,
   "metadata": {
    "ExecuteTime": {
     "end_time": "2020-10-21T03:01:03.246658Z",
     "start_time": "2020-10-21T03:01:03.233692Z"
    }
   },
   "outputs": [
    {
     "name": "stdout",
     "output_type": "stream",
     "text": [
      "6040\n",
      "3706\n"
     ]
    }
   ],
   "source": [
    "num_users, num_items = train.shape\n",
    "print(num_users)\n",
    "print(num_items)"
   ]
  },
  {
   "cell_type": "code",
   "execution_count": 5,
   "metadata": {
    "ExecuteTime": {
     "end_time": "2020-10-21T03:01:05.619922Z",
     "start_time": "2020-10-21T03:01:05.606957Z"
    }
   },
   "outputs": [],
   "source": [
    "# 制作数据   用户打过分的为正样本， 用户没打分的为负样本， 负样本这里采用的采样的方式\n",
    "def get_train_instances(train, num_negatives):\n",
    "    user_input, item_input, labels = [], [], []\n",
    "    num_items = train.shape[1]\n",
    "    for (u, i) in train.keys():  # train.keys()是打分的用户和商品       \n",
    "        # positive instance\n",
    "        user_input.append(u)\n",
    "        item_input.append(i)\n",
    "        labels.append(1)\n",
    "        \n",
    "        # negative instance\n",
    "        for t in range(num_negatives):\n",
    "            j = np.random.randint(num_items)\n",
    "            while (u, j) in train:\n",
    "                j = np.random.randint(num_items)\n",
    "            #print(u, j)\n",
    "            user_input.append(u)\n",
    "            item_input.append(j)\n",
    "            labels.append(0)\n",
    "    return user_input, item_input, labels"
   ]
  },
  {
   "cell_type": "code",
   "execution_count": 6,
   "metadata": {
    "ExecuteTime": {
     "end_time": "2020-10-21T03:01:36.161514Z",
     "start_time": "2020-10-21T03:01:27.195426Z"
    }
   },
   "outputs": [],
   "source": [
    "user_input, item_input, labels = get_train_instances(train, num_negatives)"
   ]
  },
  {
   "cell_type": "code",
   "execution_count": 7,
   "metadata": {
    "ExecuteTime": {
     "end_time": "2020-10-21T03:01:47.701029Z",
     "start_time": "2020-10-21T03:01:46.769949Z"
    }
   },
   "outputs": [],
   "source": [
    "train_x = np.vstack([user_input, item_input]).T\n",
    "labels = np.array(labels)"
   ]
  },
  {
   "cell_type": "code",
   "execution_count": 8,
   "metadata": {
    "ExecuteTime": {
     "end_time": "2020-10-21T03:01:55.976612Z",
     "start_time": "2020-10-21T03:01:55.915776Z"
    }
   },
   "outputs": [],
   "source": [
    "# 构建成Dataset和DataLoader\n",
    "train_dataset = TensorDataset(torch.tensor(train_x), torch.tensor(labels).float())\n",
    "dl_train = DataLoader(train_dataset, batch_size=batch_size, shuffle=True)"
   ]
  },
  {
   "cell_type": "code",
   "execution_count": 9,
   "metadata": {
    "ExecuteTime": {
     "end_time": "2020-10-21T03:02:04.699632Z",
     "start_time": "2020-10-21T03:02:04.188999Z"
    },
    "collapsed": true
   },
   "outputs": [
    {
     "name": "stdout",
     "output_type": "stream",
     "text": [
      "tensor([[2051, 3584],\n",
      "        [1726, 3025],\n",
      "        [1180, 3073],\n",
      "        [1171, 1554],\n",
      "        [2179, 1448],\n",
      "        [3759,  215],\n",
      "        [3545, 2908],\n",
      "        [1883, 2756],\n",
      "        [3768,   41],\n",
      "        [1721, 3225],\n",
      "        [2984, 2192],\n",
      "        [2906, 1232],\n",
      "        [1910, 1899],\n",
      "        [3823,  355],\n",
      "        [1644, 1351],\n",
      "        [ 972, 2711],\n",
      "        [4270, 1031],\n",
      "        [3791, 2890],\n",
      "        [3694,  686],\n",
      "        [4271, 2576],\n",
      "        [1644, 3058],\n",
      "        [2450,  102],\n",
      "        [4807,  737],\n",
      "        [5141, 1804],\n",
      "        [5879,  320],\n",
      "        [5889, 3180],\n",
      "        [ 668, 2565],\n",
      "        [2123, 1042],\n",
      "        [4139, 2546],\n",
      "        [5658, 1417],\n",
      "        [1916, 1670],\n",
      "        [4907,  522],\n",
      "        [2155, 2684],\n",
      "        [3285, 3618],\n",
      "        [3712, 1238],\n",
      "        [4509, 2273],\n",
      "        [5840,   22],\n",
      "        [2851, 2276],\n",
      "        [3311, 3318],\n",
      "        [5344, 2163],\n",
      "        [3650,   39],\n",
      "        [3410, 2017],\n",
      "        [2977, 3043],\n",
      "        [5918, 1852],\n",
      "        [4025, 3166],\n",
      "        [5171, 2105],\n",
      "        [3390, 3644],\n",
      "        [4047, 2305],\n",
      "        [1087,  227],\n",
      "        [4576, 1788],\n",
      "        [1263, 3172],\n",
      "        [2582, 2193],\n",
      "        [4818, 2837],\n",
      "        [3390,   63],\n",
      "        [1902,  958],\n",
      "        [1242, 3063],\n",
      "        [1028, 2048],\n",
      "        [3820, 1666],\n",
      "        [ 183,  526],\n",
      "        [  52, 1551],\n",
      "        [2884, 1866],\n",
      "        [4936,  574],\n",
      "        [5106, 3644],\n",
      "        [5980, 1952]]) tensor([0., 0., 0., 0., 0., 1., 0., 0., 1., 0., 0., 0., 0., 0., 1., 0., 0., 0.,\n",
      "        0., 0., 0., 0., 1., 0., 0., 0., 1., 1., 0., 1., 1., 0., 0., 0., 0., 0.,\n",
      "        1., 0., 0., 0., 0., 0., 0., 0., 0., 0., 0., 0., 0., 0., 0., 1., 0., 0.,\n",
      "        1., 0., 0., 0., 0., 0., 0., 0., 0., 0.])\n"
     ]
    }
   ],
   "source": [
    "# 测试一下\n",
    "for (x, y) in iter(dl_train):\n",
    "    print(x, y)\n",
    "    break"
   ]
  },
  {
   "cell_type": "markdown",
   "metadata": {},
   "source": [
    "## GMF模型\n",
    "这里建立GMF模型， 这个模型的输入就是用户和物品的ID， 然后通过Embedding层得到它的向量， 然后就可以加权(过一个全连接层)得到最后的输出。<br>\n",
    "\n",
    "![](img/3.png)"
   ]
  },
  {
   "cell_type": "code",
   "execution_count": 10,
   "metadata": {
    "ExecuteTime": {
     "end_time": "2020-10-21T03:02:13.158823Z",
     "start_time": "2020-10-21T03:02:13.145850Z"
    }
   },
   "outputs": [],
   "source": [
    "class GMF(nn.Module):\n",
    "    \n",
    "    def __init__(self, num_users, num_items, latent_dim, regs=[0, 0]):\n",
    "        super(GMF, self).__init__()\n",
    "        self.MF_Embedding_User = nn.Embedding(num_embeddings=num_users, embedding_dim=latent_dim)\n",
    "        self.MF_Embedding_Item = nn.Embedding(num_embeddings=num_items, embedding_dim=latent_dim)\n",
    "        self.linear = nn.Linear(latent_dim, 1)\n",
    "        self.sigmoid = nn.Sigmoid()\n",
    "    \n",
    "    def forward(self, inputs):\n",
    "        # 这个inputs是一个批次的数据， 所以后面的操作切记写成inputs[0], [1]这种， 这是针对某个样本了， 我们都是对列进行的操作\n",
    "        \n",
    "        # 先把输入转成long类型\n",
    "        inputs = inputs.long()\n",
    "        \n",
    "        # 用户和物品的embedding\n",
    "        MF_Embedding_User = self.MF_Embedding_User(inputs[:, 0])  # 这里踩了个坑， 千万不要写成[0]， 我们这里是第一列\n",
    "        MF_Embedding_Item = self.MF_Embedding_Item(inputs[:, 1])\n",
    "        \n",
    "        # 两个隐向量点积\n",
    "        predict_vec = torch.mul(MF_Embedding_User, MF_Embedding_Item)\n",
    "        \n",
    "        # liner\n",
    "        linear = self.linear(predict_vec)\n",
    "        output = self.sigmoid(linear)\n",
    "        output =output.squeeze(-1)\n",
    "        return output"
   ]
  },
  {
   "cell_type": "code",
   "execution_count": 11,
   "metadata": {
    "ExecuteTime": {
     "end_time": "2020-10-21T03:02:21.362053Z",
     "start_time": "2020-10-21T03:02:21.349136Z"
    }
   },
   "outputs": [
    {
     "name": "stdout",
     "output_type": "stream",
     "text": [
      "--------------------------------------------------------------------------\n",
      "Layer (type)                            Output Shape              Param #\n",
      "==========================================================================\n",
      "Embedding-1                                 [-1, 10]                   10\n",
      "Embedding-2                                 [-1, 10]                   10\n",
      "Linear-3                                     [-1, 1]                   11\n",
      "Sigmoid-4                                    [-1, 1]                    0\n",
      "==========================================================================\n",
      "Total params: 31\n",
      "Trainable params: 31\n",
      "Non-trainable params: 0\n",
      "--------------------------------------------------------------------------\n",
      "Input size (MB): 0.000008\n",
      "Forward/backward pass size (MB): 0.000168\n",
      "Params size (MB): 0.000118\n",
      "Estimated Total Size (MB): 0.000294\n",
      "--------------------------------------------------------------------------\n"
     ]
    },
    {
     "data": {
      "text/plain": "'--------------------------------------------------------------------------\\nLayer (type)                            Output Shape              Param #\\n==========================================================================\\nEmbedding-1                                 [-1, 10]                   10\\nEmbedding-2                                 [-1, 10]                   10\\nLinear-3                                     [-1, 1]                   11\\nSigmoid-4                                    [-1, 1]                    0\\n==========================================================================\\nTotal params: 31\\nTrainable params: 31\\nNon-trainable params: 0\\n--------------------------------------------------------------------------\\nInput size (MB): 0.000008\\nForward/backward pass size (MB): 0.000168\\nParams size (MB): 0.000118\\nEstimated Total Size (MB): 0.000294\\n--------------------------------------------------------------------------'"
     },
     "execution_count": 11,
     "metadata": {},
     "output_type": "execute_result"
    }
   ],
   "source": [
    "# 看一下这个网络\n",
    "model = GMF(1, 1, 10)\n",
    "summary(model, input_shape=(2,))"
   ]
  },
  {
   "cell_type": "markdown",
   "metadata": {},
   "source": [
    "## 建立模型 "
   ]
  },
  {
   "cell_type": "code",
   "execution_count": 12,
   "metadata": {
    "ExecuteTime": {
     "end_time": "2020-10-21T03:02:31.926333Z",
     "start_time": "2020-10-21T03:02:29.713355Z"
    }
   },
   "outputs": [
    {
     "data": {
      "text/plain": "GMF(\n  (MF_Embedding_User): Embedding(6040, 8)\n  (MF_Embedding_Item): Embedding(3706, 8)\n  (linear): Linear(in_features=8, out_features=1, bias=True)\n  (sigmoid): Sigmoid()\n)"
     },
     "execution_count": 12,
     "metadata": {},
     "output_type": "execute_result"
    }
   ],
   "source": [
    "## 设置\n",
    "model = GMF(num_users, num_items, num_factors)\n",
    "model.to(device)"
   ]
  },
  {
   "cell_type": "code",
   "execution_count": 13,
   "metadata": {
    "ExecuteTime": {
     "end_time": "2020-10-21T03:02:40.193102Z",
     "start_time": "2020-10-21T03:02:40.182133Z"
    }
   },
   "outputs": [
    {
     "data": {
      "text/plain": "3706"
     },
     "execution_count": 13,
     "metadata": {},
     "output_type": "execute_result"
    }
   ],
   "source": [
    "num_items"
   ]
  },
  {
   "cell_type": "code",
   "execution_count": 14,
   "metadata": {
    "ExecuteTime": {
     "end_time": "2020-10-21T03:02:51.448530Z",
     "start_time": "2020-10-21T03:02:50.621561Z"
    },
    "collapsed": true
   },
   "outputs": [
    {
     "name": "stdout",
     "output_type": "stream",
     "text": [
      "tensor([0.3138, 0.2002, 0.4077, 0.4507, 0.2413, 0.3409, 0.7928, 0.4120, 0.4815,\n",
      "        0.3275, 0.4801, 0.2426, 0.4884, 0.5308, 0.5502, 0.4265, 0.2749, 0.1516,\n",
      "        0.3524, 0.4576, 0.2948, 0.2027, 0.3754, 0.2628, 0.6651, 0.5426, 0.3618,\n",
      "        0.3468, 0.4321, 0.4631, 0.3461, 0.3368, 0.3381, 0.4172, 0.4149, 0.2961,\n",
      "        0.6116, 0.5491, 0.4271, 0.2765, 0.5374, 0.3583, 0.4881, 0.3211, 0.3423,\n",
      "        0.5648, 0.5226, 0.5944, 0.3890, 0.2747, 0.5891, 0.1737, 0.4172, 0.6443,\n",
      "        0.4481, 0.3728, 0.4477, 0.2576, 0.2282, 0.3318, 0.4871, 0.4477, 0.5589,\n",
      "        0.1703], grad_fn=<SqueezeBackward1>)\n"
     ]
    }
   ],
   "source": [
    "# 简单测试一下模型\n",
    "for (x, y) in iter(dl_train):\n",
    "    #x = x.cuda()\n",
    "    print(model(x))\n",
    "    break"
   ]
  },
  {
   "cell_type": "markdown",
   "metadata": {},
   "source": [
    "## 模型的训练与评估"
   ]
  },
  {
   "cell_type": "markdown",
   "metadata": {},
   "source": [
    "### 模型评估函数"
   ]
  },
  {
   "cell_type": "code",
   "execution_count": 15,
   "metadata": {
    "ExecuteTime": {
     "end_time": "2020-10-21T03:03:17.439494Z",
     "start_time": "2020-10-21T03:03:17.421542Z"
    }
   },
   "outputs": [],
   "source": [
    "# Global variables that are shared across processes\n",
    "_model = None\n",
    "_testRatings = None\n",
    "_testNegatives = None\n",
    "_K = None\n",
    "\n",
    "# HitRation\n",
    "def getHitRatio(ranklist, gtItem):\n",
    "    for item in ranklist:\n",
    "        if item == gtItem:\n",
    "            return 1\n",
    "    return 0\n",
    "\n",
    "# NDCG\n",
    "def getNDCG(ranklist, gtItem):\n",
    "    for i in range(len(ranklist)):\n",
    "        item = ranklist[i]\n",
    "        if item == gtItem:\n",
    "            return np.log(2) / np.log(i+2)\n",
    "    return 0\n",
    "\n",
    "def eval_one_rating(idx):   # 一次评分预测\n",
    "    rating = _testRatings[idx]\n",
    "    items = _testNegatives[idx]\n",
    "    u = rating[0]\n",
    "    gtItem = rating[1]\n",
    "    items.append(gtItem)\n",
    "    \n",
    "    # Get prediction scores\n",
    "    map_item_score = {}\n",
    "    users = np.full(len(items), u, dtype='int32')\n",
    "    \n",
    "    test_data = torch.tensor(np.vstack([users, np.array(items)]).T).to(device)\n",
    "    predictions = _model(test_data)\n",
    "    for i in range(len(items)):\n",
    "        item = items[i]\n",
    "        map_item_score[item] = predictions[i].data.cpu().numpy()\n",
    "    items.pop()\n",
    "    \n",
    "    # Evaluate top rank list\n",
    "    ranklist = heapq.nlargest(_K, map_item_score, key=lambda k: map_item_score[k])  # heapq是堆排序算法， 取前K个\n",
    "    hr = getHitRatio(ranklist, gtItem)\n",
    "    ndcg = getNDCG(ranklist, gtItem)\n",
    "    return hr, ndcg\n",
    "\n",
    "def evaluate_model(model, testRatings, testNegatives, K):\n",
    "    \"\"\"\n",
    "    Evaluate the performance (Hit_Ratio, NDCG) of top-K recommendation\n",
    "    Return: score of each test rating.\n",
    "    \"\"\"\n",
    "    global _model\n",
    "    global _testRatings\n",
    "    global _testNegatives\n",
    "    global _K\n",
    "    \n",
    "    _model = model\n",
    "    _testNegatives = testNegatives\n",
    "    _testRatings = testRatings\n",
    "    _K = K\n",
    "    \n",
    "    hits, ndcgs = [], []\n",
    "    for idx in range(len(_testRatings)):\n",
    "        (hr, ndcg) = eval_one_rating(idx)\n",
    "        hits.append(hr)\n",
    "        ndcgs.append(ndcg)\n",
    "    return hits, ndcgs   "
   ]
  },
  {
   "cell_type": "markdown",
   "metadata": {
    "ExecuteTime": {
     "end_time": "2020-10-21T00:49:17.101447Z",
     "start_time": "2020-10-21T00:49:17.083494Z"
    }
   },
   "source": [
    "### 模型的训练"
   ]
  },
  {
   "cell_type": "code",
   "execution_count": 16,
   "metadata": {
    "ExecuteTime": {
     "end_time": "2020-10-21T03:03:25.841543Z",
     "start_time": "2020-10-21T03:03:25.827579Z"
    }
   },
   "outputs": [],
   "source": [
    "# 训练参数设置\n",
    "loss_func = nn.BCELoss()\n",
    "optimizer = torch.optim.Adam(params=model.parameters(), lr=lr)"
   ]
  },
  {
   "cell_type": "code",
   "execution_count": 17,
   "metadata": {
    "ExecuteTime": {
     "end_time": "2020-10-21T03:04:34.215953Z",
     "start_time": "2020-10-21T03:03:34.130934Z"
    }
   },
   "outputs": [],
   "source": [
    "# 计算出初始的评估\n",
    "(hits, ndcgs) = evaluate_model(model, testRatings, testNegatives, topK)"
   ]
  },
  {
   "cell_type": "code",
   "execution_count": 18,
   "metadata": {
    "ExecuteTime": {
     "end_time": "2020-10-21T03:04:42.785379Z",
     "start_time": "2020-10-21T03:04:42.773369Z"
    }
   },
   "outputs": [
    {
     "name": "stdout",
     "output_type": "stream",
     "text": [
      "Init: HR=0.1086, NDCG=0.0500\n"
     ]
    }
   ],
   "source": [
    "hr, ndcg = np.array(hits).mean(), np.array(ndcgs).mean()\n",
    "print('Init: HR=%.4f, NDCG=%.4f' %(hr, ndcg))"
   ]
  },
  {
   "cell_type": "code",
   "execution_count": 19,
   "metadata": {
    "ExecuteTime": {
     "end_time": "2020-10-21T06:26:59.555292Z",
     "start_time": "2020-10-21T03:30:30.026405Z"
    },
    "scrolled": false
   },
   "outputs": [
    {
     "name": "stdout",
     "output_type": "stream",
     "text": [
      "[step = 10000] loss: 0.507\n",
      "[step = 20000] loss: 0.504\n",
      "[step = 30000] loss: 0.503\n",
      "[step = 40000] loss: 0.502\n",
      "[step = 50000] loss: 0.502\n",
      "[step = 60000] loss: 0.502\n",
      "[step = 70000] loss: 0.501\n",
      "\n",
      "EPOCH = 0, loss = 0.501, hr = 0.111, ndcg = 0.051\n",
      "[step = 10000] loss: 0.499\n",
      "[step = 20000] loss: 0.500\n",
      "[step = 30000] loss: 0.498\n",
      "[step = 40000] loss: 0.490\n",
      "[step = 50000] loss: 0.476\n",
      "[step = 60000] loss: 0.462\n",
      "[step = 70000] loss: 0.449\n",
      "\n",
      "EPOCH = 1, loss = 0.441, hr = 0.414, ndcg = 0.226\n",
      "[step = 10000] loss: 0.360\n",
      "[step = 20000] loss: 0.359\n",
      "[step = 30000] loss: 0.359\n",
      "[step = 40000] loss: 0.358\n",
      "[step = 50000] loss: 0.357\n",
      "[step = 60000] loss: 0.357\n",
      "[step = 70000] loss: 0.356\n",
      "\n",
      "EPOCH = 2, loss = 0.356, hr = 0.451, ndcg = 0.247\n",
      "[step = 10000] loss: 0.345\n",
      "[step = 20000] loss: 0.344\n",
      "[step = 30000] loss: 0.343\n",
      "[step = 40000] loss: 0.342\n",
      "[step = 50000] loss: 0.341\n",
      "[step = 60000] loss: 0.340\n",
      "[step = 70000] loss: 0.339\n",
      "\n",
      "EPOCH = 3, loss = 0.337, hr = 0.483, ndcg = 0.267\n",
      "[step = 10000] loss: 0.323\n",
      "[step = 20000] loss: 0.321\n",
      "[step = 30000] loss: 0.321\n",
      "[step = 40000] loss: 0.320\n",
      "[step = 50000] loss: 0.319\n",
      "[step = 60000] loss: 0.318\n",
      "[step = 70000] loss: 0.317\n",
      "\n",
      "EPOCH = 4, loss = 0.317, hr = 0.516, ndcg = 0.288\n",
      "[step = 10000] loss: 0.304\n",
      "[step = 20000] loss: 0.304\n",
      "[step = 30000] loss: 0.303\n",
      "[step = 40000] loss: 0.303\n",
      "[step = 50000] loss: 0.303\n",
      "[step = 60000] loss: 0.302\n",
      "[step = 70000] loss: 0.302\n",
      "\n",
      "EPOCH = 5, loss = 0.301, hr = 0.538, ndcg = 0.303\n",
      "[step = 10000] loss: 0.292\n",
      "[step = 20000] loss: 0.292\n",
      "[step = 30000] loss: 0.292\n",
      "[step = 40000] loss: 0.293\n",
      "[step = 50000] loss: 0.292\n",
      "[step = 60000] loss: 0.292\n",
      "[step = 70000] loss: 0.292\n",
      "\n",
      "EPOCH = 6, loss = 0.292, hr = 0.559, ndcg = 0.316\n",
      "[step = 10000] loss: 0.285\n",
      "[step = 20000] loss: 0.286\n",
      "[step = 30000] loss: 0.286\n",
      "[step = 40000] loss: 0.287\n",
      "[step = 50000] loss: 0.287\n",
      "[step = 60000] loss: 0.287\n",
      "[step = 70000] loss: 0.287\n",
      "\n",
      "EPOCH = 7, loss = 0.287, hr = 0.575, ndcg = 0.325\n",
      "[step = 10000] loss: 0.282\n",
      "[step = 20000] loss: 0.283\n",
      "[step = 30000] loss: 0.283\n",
      "[step = 40000] loss: 0.283\n",
      "[step = 50000] loss: 0.283\n",
      "[step = 60000] loss: 0.284\n",
      "[step = 70000] loss: 0.284\n",
      "\n",
      "EPOCH = 8, loss = 0.284, hr = 0.582, ndcg = 0.332\n",
      "[step = 10000] loss: 0.281\n",
      "[step = 20000] loss: 0.282\n",
      "[step = 30000] loss: 0.282\n",
      "[step = 40000] loss: 0.282\n",
      "[step = 50000] loss: 0.282\n",
      "[step = 60000] loss: 0.282\n",
      "[step = 70000] loss: 0.282\n",
      "\n",
      "EPOCH = 9, loss = 0.282, hr = 0.586, ndcg = 0.332\n",
      "[step = 10000] loss: 0.279\n",
      "[step = 20000] loss: 0.280\n",
      "[step = 30000] loss: 0.280\n",
      "[step = 40000] loss: 0.280\n",
      "[step = 50000] loss: 0.281\n",
      "[step = 60000] loss: 0.281\n",
      "[step = 70000] loss: 0.281\n",
      "\n",
      "EPOCH = 10, loss = 0.281, hr = 0.591, ndcg = 0.337\n",
      "[step = 10000] loss: 0.278\n",
      "[step = 20000] loss: 0.279\n",
      "[step = 30000] loss: 0.280\n",
      "[step = 40000] loss: 0.280\n",
      "[step = 50000] loss: 0.280\n",
      "[step = 60000] loss: 0.280\n",
      "[step = 70000] loss: 0.281\n",
      "\n",
      "EPOCH = 11, loss = 0.281, hr = 0.593, ndcg = 0.337\n",
      "[step = 10000] loss: 0.278\n",
      "[step = 20000] loss: 0.279\n",
      "[step = 30000] loss: 0.279\n",
      "[step = 40000] loss: 0.279\n",
      "[step = 50000] loss: 0.280\n",
      "[step = 60000] loss: 0.280\n",
      "[step = 70000] loss: 0.280\n",
      "\n",
      "EPOCH = 12, loss = 0.280, hr = 0.596, ndcg = 0.338\n",
      "[step = 10000] loss: 0.279\n",
      "[step = 20000] loss: 0.279\n",
      "[step = 30000] loss: 0.280\n",
      "[step = 40000] loss: 0.280\n",
      "[step = 50000] loss: 0.280\n",
      "[step = 60000] loss: 0.280\n",
      "[step = 70000] loss: 0.280\n",
      "\n",
      "EPOCH = 13, loss = 0.280, hr = 0.594, ndcg = 0.338\n",
      "[step = 10000] loss: 0.277\n",
      "[step = 20000] loss: 0.278\n",
      "[step = 30000] loss: 0.278\n",
      "[step = 40000] loss: 0.279\n",
      "[step = 50000] loss: 0.279\n",
      "[step = 60000] loss: 0.280\n",
      "[step = 70000] loss: 0.280\n",
      "\n",
      "EPOCH = 14, loss = 0.280, hr = 0.596, ndcg = 0.339\n",
      "[step = 10000] loss: 0.278\n",
      "[step = 20000] loss: 0.279\n",
      "[step = 30000] loss: 0.279\n",
      "[step = 40000] loss: 0.279\n",
      "[step = 50000] loss: 0.279\n",
      "[step = 60000] loss: 0.279\n",
      "[step = 70000] loss: 0.280\n",
      "\n",
      "EPOCH = 15, loss = 0.280, hr = 0.601, ndcg = 0.343\n",
      "[step = 10000] loss: 0.276\n",
      "[step = 20000] loss: 0.277\n",
      "[step = 30000] loss: 0.278\n",
      "[step = 40000] loss: 0.278\n",
      "[step = 50000] loss: 0.279\n",
      "[step = 60000] loss: 0.279\n",
      "[step = 70000] loss: 0.279\n",
      "\n",
      "EPOCH = 16, loss = 0.280, hr = 0.600, ndcg = 0.343\n",
      "[step = 10000] loss: 0.278\n",
      "[step = 20000] loss: 0.278\n",
      "[step = 30000] loss: 0.278\n",
      "[step = 40000] loss: 0.278\n",
      "[step = 50000] loss: 0.279\n",
      "[step = 60000] loss: 0.279\n",
      "[step = 70000] loss: 0.279\n",
      "\n",
      "EPOCH = 17, loss = 0.279, hr = 0.598, ndcg = 0.342\n",
      "[step = 10000] loss: 0.276\n",
      "[step = 20000] loss: 0.277\n",
      "[step = 30000] loss: 0.278\n",
      "[step = 40000] loss: 0.278\n",
      "[step = 50000] loss: 0.278\n",
      "[step = 60000] loss: 0.278\n",
      "[step = 70000] loss: 0.279\n",
      "\n",
      "EPOCH = 18, loss = 0.279, hr = 0.604, ndcg = 0.346\n",
      "[step = 10000] loss: 0.276\n",
      "[step = 20000] loss: 0.276\n",
      "[step = 30000] loss: 0.277\n",
      "[step = 40000] loss: 0.277\n",
      "[step = 50000] loss: 0.278\n",
      "[step = 60000] loss: 0.278\n",
      "[step = 70000] loss: 0.278\n",
      "\n",
      "EPOCH = 19, loss = 0.278, hr = 0.606, ndcg = 0.347\n",
      "Finished Training...\n"
     ]
    }
   ],
   "source": [
    "# 模型训练 \n",
    "best_hr, best_ndcg, best_iter = hr, ndcg, -1\n",
    "\n",
    "epochs = 20\n",
    "log_step_freq = 10000\n",
    "\n",
    "for epoch in range(epochs):\n",
    "    \n",
    "    # 训练阶段\n",
    "    model.train()\n",
    "    loss_sum = 0.0\n",
    "    for step, (features, labels) in enumerate(dl_train, 1):\n",
    "        \n",
    "        #features, labels = features.cuda(), labels.cuda()\n",
    "        # 梯度清零\n",
    "        optimizer.zero_grad()\n",
    "        \n",
    "        # 正向传播\n",
    "        predictions = model(features)\n",
    "        loss = loss_func(predictions, labels)\n",
    "        \n",
    "        # 反向传播求梯度\n",
    "        loss.backward()\n",
    "        optimizer.step()\n",
    "        \n",
    "        # 打印batch级别日志\n",
    "        loss_sum += loss.item()\n",
    "        if step % log_step_freq == 0:\n",
    "            print((\"[step = %d] loss: %.3f\") %\n",
    "                  (step, loss_sum/step))\n",
    "    \n",
    "    # 验证阶段\n",
    "    model.eval()\n",
    "    (hits, ndcgs) = evaluate_model(model, testRatings, testNegatives, topK)\n",
    "    hr, ndcg = np.array(hits).mean(), np.array(ndcgs).mean()\n",
    "    if hr > best_hr:\n",
    "        best_hr, best_ndcg, best_iter = hr, ndcg, epoch\n",
    "        torch.save(model.state_dict(), 'Pre_train/m1-1m_GMF.pkl')  \n",
    "        \n",
    "    info = (epoch, loss_sum/step, hr, ndcg)\n",
    "    print((\"\\nEPOCH = %d, loss = %.3f, hr = %.3f, ndcg = %.3f\") %info)\n",
    "print('Finished Training...') "
   ]
  },
  {
   "cell_type": "code",
   "execution_count": null,
   "metadata": {},
   "outputs": [],
   "source": []
  }
 ],
 "metadata": {
  "kernelspec": {
   "display_name": "Python 3",
   "language": "python",
   "name": "python3"
  },
  "language_info": {
   "codemirror_mode": {
    "name": "ipython",
    "version": 3
   },
   "file_extension": ".py",
   "mimetype": "text/x-python",
   "name": "python",
   "nbconvert_exporter": "python",
   "pygments_lexer": "ipython3",
   "version": "3.6.8"
  },
  "toc": {
   "base_numbering": 1,
   "nav_menu": {},
   "number_sections": true,
   "sideBar": true,
   "skip_h1_title": false,
   "title_cell": "Table of Contents",
   "title_sidebar": "Contents",
   "toc_cell": false,
   "toc_position": {},
   "toc_section_display": true,
   "toc_window_display": false
  },
  "varInspector": {
   "cols": {
    "lenName": 16,
    "lenType": 16,
    "lenVar": 40
   },
   "kernels_config": {
    "python": {
     "delete_cmd_postfix": "",
     "delete_cmd_prefix": "del ",
     "library": "var_list.py",
     "varRefreshCmd": "print(var_dic_list())"
    },
    "r": {
     "delete_cmd_postfix": ") ",
     "delete_cmd_prefix": "rm(",
     "library": "var_list.r",
     "varRefreshCmd": "cat(var_dic_list()) "
    }
   },
   "types_to_exclude": [
    "module",
    "function",
    "builtin_function_or_method",
    "instance",
    "_Feature"
   ],
   "window_display": false
  }
 },
 "nbformat": 4,
 "nbformat_minor": 2
}
